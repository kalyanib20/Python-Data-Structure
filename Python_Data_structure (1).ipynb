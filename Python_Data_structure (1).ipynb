{
  "nbformat": 4,
  "nbformat_minor": 0,
  "metadata": {
    "colab": {
      "provenance": []
    },
    "kernelspec": {
      "name": "python3",
      "display_name": "Python 3"
    },
    "language_info": {
      "name": "python"
    }
  },
  "cells": [
    {
      "cell_type": "markdown",
      "source": [],
      "metadata": {
        "id": "Cp2zfUMiYnXc"
      }
    },
    {
      "cell_type": "code",
      "execution_count": null,
      "metadata": {
        "id": "D-NgmGVyYX5K"
      },
      "outputs": [],
      "source": []
    },
    {
      "cell_type": "code",
      "source": [],
      "metadata": {
        "id": "k8ByQ-LTYiuz"
      },
      "execution_count": null,
      "outputs": []
    },
    {
      "cell_type": "markdown",
      "source": [
        "1.  what is data structure, and why are they important?\n",
        "    \n",
        "\n",
        "*   Data strucuture is way to of organizing and sorting data so that it can be accessed and manipulated efficintly\n",
        "*   choosing the right data structure sinngnificanty impacts the  efficiency and perfomance of your program\n",
        "\n",
        "\n",
        "\n",
        "2. Explain the difference between mutable and immutable data type with examples?\n",
        "\n",
        "\n",
        "*   mutable data tpye\n",
        "    >objects whose value can be changed after creation.\n",
        "    \n",
        "     example\n",
        "      my_list:[1,2,3]\n",
        "      my_list[1]=3 #modify the first element\n",
        "      print (my_list)\n",
        "  o|p\n",
        "      [3,2,3]\n",
        "*   immutable data type\n",
        "    >object whose  value  can be not chenged after creation.\n",
        "    \n",
        "      example\n",
        "     my_list:[1,2,3]\n",
        "      my_list[0]=2   #show some errorthe value will be not changed\n",
        "  \n",
        "\n",
        "3. What are the main differences between lists and tuples in Python?\n",
        "   \n",
        "*   list are mutable and after creation then changed a value\n",
        "*   tuple are immutable and is not changed a value after cretion\n",
        "\n",
        "4. Describe how dictionaries store data?\n",
        "\n",
        "*  dictionaries store data using a structure called key-value pair.\n",
        "\n",
        "5. Why might you use a set instead of a list in Python?\n",
        "\n",
        "*  You might use a set instead of a list in Python for the key reasons.\n",
        "\n",
        "6. What is a string in Python, and how is it different from a list?\n",
        "\n",
        "*  A string in Python is a sequence of characters, while a list is a sequence\n",
        "   of any data type, including numbers, strings, or even other lists.\n",
        "\n",
        "\n",
        "7.  How do tuples ensure data integrity in Python?\n",
        "\n",
        "*  A tuple is an immutable sequence type.\n",
        "*  Once a tuple is created, its contents cannot be changed — no adding,\n",
        "   removing, or altering elements.\n",
        "\n",
        "8. What is a hash table, and how does it relate to dictionaries in Python?\n",
        "\n",
        "* A hash table is a data structure that allows for fast data retrieval by using\n",
        "  a key to compute an index into an array, where the value is stored.\n",
        "\n",
        "9. Can lists contain different data types in Python?\n",
        "\n",
        "*  Yes, lists can contain different data types in Python.\n",
        "*  Python lists are heterogeneous, meaning you can store elements of different\n",
        "   data types in the same list.\n",
        "\n",
        "\n",
        "10. Explain why strings are immutable in Python?\n",
        "\n",
        "\n",
        "\n",
        "*  Strings are immutable in Python to ensure efficiency, safety, and consistent\n",
        "   behavior.\n",
        "\n",
        "11. What advantages do dictionaries offer over lists for certain tasks?\n",
        "\n",
        "\n",
        "\n",
        "*  Dictionaries offer key advantages over lists for certain tasks, especially\n",
        "   when you need to associate keys with values and access data quickly.\n",
        "\n",
        "\n",
        "12. Describe a scenario where using a tuple would be preferable over a list?\n",
        "\n",
        "*  A tuple is preferable over a list when you need a fixed, immutable  \n",
        "   collection of items.\n",
        "\n",
        "13. How do sets handle duplicate values in Python?\n",
        "\n",
        "*  in python set automatically remove duplicate value.\n",
        "\n",
        "14. How does the “in” keyword work differently for lists and dictionaries?\n",
        "\n",
        "*  The in keyword works differently for lists and dictionaries in Python  \n",
        "  because it checks different things depending on the data structure.\n",
        "\n",
        "15. Can you modify the elements of a tuple? Explain why or why not?\n",
        "\n",
        "\n",
        "*  you cannot modify the elements of a tuple in Python because\n",
        "   tuple are immutable.\n",
        "\n",
        "16. What is a nested dictionary, and give an example of its use case?\n",
        "  \n",
        "*  A nested dictionary in Python is a dictionary inside another dictionary. It\n",
        "   allows you to store complex, hierarchical data—essentially creating a multi-level structure.\n",
        "\n",
        "   use case\n",
        "   inventory = {\n",
        "    \"fruits\": {\"apple\": 10, \"banana\": 5},\n",
        "    \"vegetables\": {\"carrot\": 7, \"broccoli\": 4}\n",
        "  }\n",
        "\n",
        "17. Describe the time complexity of accessing elements in a dictionary?\n",
        "\n",
        "*  This means accessing, inserting, or deleting elements is usually very fast\n",
        "   and constant time, regardless of dictionary size.\n",
        "\n",
        "18. In what situations are lists preferred over dictionaries?\n",
        "\n",
        "*  Lists maintain insertion order, and items can be accessed by position.\n",
        "\n",
        "19. Why are dictionaries considered unordered, and how does that affect data\n",
        "  retrieval?\n",
        "\n",
        "* dictionaries did not guarantee any order of their items. The internal\n",
        "  implementation used hash tables, which stored keys based on their hash value, not in the order they were added.\n",
        "\n",
        "20. Explain the difference between a list and a dictionary in terms of data\n",
        "  retrieval.\n",
        "\n",
        "*  Lists store items in an ordered sequence.\n",
        "*  Dictionaries store data as key-value pairs.\n"
      ],
      "metadata": {
        "id": "kez47IUZYo8L"
      }
    },
    {
      "cell_type": "code",
      "source": [
        "#1.Write a code to create a string with your name and print it.\n",
        "name=\"kalyani\"\n",
        "print(\"kalyani\")"
      ],
      "metadata": {
        "colab": {
          "base_uri": "https://localhost:8080/"
        },
        "id": "66BM8ZsGYyh5",
        "outputId": "2216f7bb-26e8-4b0d-b2a2-d4cff43e4e30"
      },
      "execution_count": 41,
      "outputs": [
        {
          "output_type": "stream",
          "name": "stdout",
          "text": [
            "kalyani\n"
          ]
        }
      ]
    },
    {
      "cell_type": "code",
      "source": [
        "#2.Write a code to find the length of the string \"Hello World\"\n",
        "my_string=\"hello world\"\n",
        "length=len(\"my_string\")\n",
        "print(length)"
      ],
      "metadata": {
        "colab": {
          "base_uri": "https://localhost:8080/"
        },
        "id": "CtoGh1laZBnj",
        "outputId": "649363fc-b3b1-4b93-8060-1e13a67d1dda"
      },
      "execution_count": 3,
      "outputs": [
        {
          "output_type": "stream",
          "name": "stdout",
          "text": [
            "9\n"
          ]
        }
      ]
    },
    {
      "cell_type": "markdown",
      "source": [],
      "metadata": {
        "id": "Wsi0fA_JZBZC"
      }
    },
    {
      "cell_type": "code",
      "source": [
        "#3.Write a code to slice the first 3 characters from the string \"Python Programming\".\n",
        "my_string=\"python programming\"\n",
        "slice =my_string[0:3]\n",
        "print (slice)"
      ],
      "metadata": {
        "colab": {
          "base_uri": "https://localhost:8080/"
        },
        "id": "YxYrNk0DZDY7",
        "outputId": "088c52b2-fc13-48f2-8e0c-b4bfeae3c801"
      },
      "execution_count": 4,
      "outputs": [
        {
          "output_type": "stream",
          "name": "stdout",
          "text": [
            "pyt\n"
          ]
        }
      ]
    },
    {
      "cell_type": "code",
      "source": [
        "#4.Write a code to convert the string \"hello\" to uppercase\n",
        "my_string=\"hello\"\n",
        "uppercase=my_string.upper()\n",
        "print(uppercase)"
      ],
      "metadata": {
        "colab": {
          "base_uri": "https://localhost:8080/"
        },
        "id": "hCK6PcllZIgD",
        "outputId": "7fecded3-137e-4a4e-bf47-3cd7b1b55c45"
      },
      "execution_count": 5,
      "outputs": [
        {
          "output_type": "stream",
          "name": "stdout",
          "text": [
            "HELLO\n"
          ]
        }
      ]
    },
    {
      "cell_type": "markdown",
      "source": [],
      "metadata": {
        "id": "EWHf3O_yZLn7"
      }
    },
    {
      "cell_type": "code",
      "source": [
        "#5.Write a code to replace the word \"apple\" with \"orange\" in the string \"I like apple\"\n",
        "my_string=\"I like apple\"\n",
        "replace =my_string.replace(\"apple\",\"orange\")\n",
        "print (replace)"
      ],
      "metadata": {
        "colab": {
          "base_uri": "https://localhost:8080/"
        },
        "id": "KvNJGHDsZMcY",
        "outputId": "4a0acfa0-0adb-4731-8472-22c282a40c08"
      },
      "execution_count": 6,
      "outputs": [
        {
          "output_type": "stream",
          "name": "stdout",
          "text": [
            "I like orange\n"
          ]
        }
      ]
    },
    {
      "cell_type": "code",
      "source": [
        "#6.Write a code to create a list with numbers 1 to 5 and print it\n",
        "list=[1,2,3,4,5]\n",
        "print(list)"
      ],
      "metadata": {
        "colab": {
          "base_uri": "https://localhost:8080/"
        },
        "id": "fUoGCcZ0ZQmK",
        "outputId": "fb8ca2a0-7726-450b-c56e-4a2a2d1f4730"
      },
      "execution_count": 7,
      "outputs": [
        {
          "output_type": "stream",
          "name": "stdout",
          "text": [
            "[1, 2, 3, 4, 5]\n"
          ]
        }
      ]
    },
    {
      "cell_type": "code",
      "source": [
        "#7.Write a code to append the number 10 to the list [1, 2, 3, 4]\n",
        "my_list=[1, 2, 3, 4]\n",
        "list.append(10)\n",
        "print(list)"
      ],
      "metadata": {
        "colab": {
          "base_uri": "https://localhost:8080/"
        },
        "id": "a7gh_eD8ZVBH",
        "outputId": "07b3abf6-f2ee-40d4-e5c1-9138b07a1c8b"
      },
      "execution_count": 8,
      "outputs": [
        {
          "output_type": "stream",
          "name": "stdout",
          "text": [
            "[1, 2, 3, 4, 5, 10]\n"
          ]
        }
      ]
    },
    {
      "cell_type": "markdown",
      "source": [],
      "metadata": {
        "id": "4RRNDRexYj53"
      }
    },
    {
      "cell_type": "code",
      "source": [
        "#8. Write a code to remove the number 3 from the list [1, 2, 3, 4, 5]\n",
        "my_list=[1,2,3,4,5]\n",
        "list.remove(3)\n",
        "print(list)"
      ],
      "metadata": {
        "colab": {
          "base_uri": "https://localhost:8080/"
        },
        "id": "Xfyc4pxOZZhn",
        "outputId": "584b01da-4e0b-4a7d-9041-12128b273fba"
      },
      "execution_count": 9,
      "outputs": [
        {
          "output_type": "stream",
          "name": "stdout",
          "text": [
            "[1, 2, 4, 5, 10]\n"
          ]
        }
      ]
    },
    {
      "cell_type": "code",
      "source": [
        "#9 write to code to access seecond element in the list [\"a\",\"b\",\"c\",\"d\"]\n",
        "my_list= [\"a\",\"b\",\"c\",\"d\"]\n",
        "second_element=my_list[1]\n",
        "print(second_element)"
      ],
      "metadata": {
        "colab": {
          "base_uri": "https://localhost:8080/"
        },
        "id": "nePH7Ab0ZaO1",
        "outputId": "84d0fcac-b66a-442a-e174-35cd7fe9096d"
      },
      "execution_count": 10,
      "outputs": [
        {
          "output_type": "stream",
          "name": "stdout",
          "text": [
            "b\n"
          ]
        }
      ]
    },
    {
      "cell_type": "code",
      "source": [
        "#10 write a code to reverse the list [10,20,30,40,50]\n",
        "list=[10,20,30,40,50]\n",
        "list.reverse()\n",
        "print(list)"
      ],
      "metadata": {
        "colab": {
          "base_uri": "https://localhost:8080/"
        },
        "id": "zHJvPXjjZfo3",
        "outputId": "4a78dbf3-3ebe-4b26-d163-15b08366ac32"
      },
      "execution_count": 11,
      "outputs": [
        {
          "output_type": "stream",
          "name": "stdout",
          "text": [
            "[50, 40, 30, 20, 10]\n"
          ]
        }
      ]
    },
    {
      "cell_type": "code",
      "source": [
        "#11 write a code to create a tuple with the element 100,200,300 and print it.\n",
        "my_tuple=(100,200,300)\n",
        "print(my_tuple)"
      ],
      "metadata": {
        "colab": {
          "base_uri": "https://localhost:8080/"
        },
        "id": "QGVcsVutZlkp",
        "outputId": "d732e26b-52c6-4ac9-c68e-fac4b966f5c7"
      },
      "execution_count": 42,
      "outputs": [
        {
          "output_type": "stream",
          "name": "stdout",
          "text": [
            "(100, 200, 300)\n"
          ]
        }
      ]
    },
    {
      "cell_type": "code",
      "source": [
        "#12 write a code to access the second-to-last element of the tuple('red','green','blue','yello')\n",
        "my_tuple=('red','green','blue','yello')\n",
        "second_to_last_element=my_tuple[-2]\n",
        "print(second_to_last_element)"
      ],
      "metadata": {
        "colab": {
          "base_uri": "https://localhost:8080/"
        },
        "id": "aN_kwL5fZqJh",
        "outputId": "6628ef64-c81f-4ed9-d93c-fcbf83407802"
      },
      "execution_count": 44,
      "outputs": [
        {
          "output_type": "stream",
          "name": "stdout",
          "text": [
            "blue\n"
          ]
        }
      ]
    },
    {
      "cell_type": "code",
      "source": [
        "#13 write to code to find a minimum number in the tuple(10,20,5,15)\n",
        "my_tuple=(10,20,5,15)\n",
        "minimum=min(my_tuple)\n",
        "print(minimum)"
      ],
      "metadata": {
        "colab": {
          "base_uri": "https://localhost:8080/"
        },
        "id": "2b2h1A4JZr4Z",
        "outputId": "f23ebfa4-1e21-42d5-e47a-e0073f1cbf45"
      },
      "execution_count": 45,
      "outputs": [
        {
          "output_type": "stream",
          "name": "stdout",
          "text": [
            "5\n"
          ]
        }
      ]
    },
    {
      "cell_type": "code",
      "source": [
        "#14 write to find index of the element'cat'in the tuple ('dog','cat','rabbit')\n",
        "my_tuple=('dog','cat','rabbit')\n",
        "index=my_tuple.index('cat')\n",
        "print(index)"
      ],
      "metadata": {
        "colab": {
          "base_uri": "https://localhost:8080/"
        },
        "id": "ykzRMaEDZxQ5",
        "outputId": "3a948460-4788-4213-b5c1-352b010f74df"
      },
      "execution_count": 23,
      "outputs": [
        {
          "output_type": "stream",
          "name": "stdout",
          "text": [
            "1\n"
          ]
        }
      ]
    },
    {
      "cell_type": "code",
      "source": [
        "#15 write a code to create a tuple containing three deffirent fruits and check if \"kiwi\" is in it.\n",
        "fruit=(\"mango\",\"apple\",\"kiwi\")\n",
        "if \"kiwi\" in fruit:\n",
        "  print (\"kiwi is present\")\n",
        "else:\n",
        "  print(\"kiwi is not present\")"
      ],
      "metadata": {
        "colab": {
          "base_uri": "https://localhost:8080/"
        },
        "id": "Eh65HwQXZz9-",
        "outputId": "129857cf-65e4-4031-cd6b-06cf6e32ac81"
      },
      "execution_count": 24,
      "outputs": [
        {
          "output_type": "stream",
          "name": "stdout",
          "text": [
            "kiwi is present\n"
          ]
        }
      ]
    },
    {
      "cell_type": "code",
      "source": [
        "#16 write to code to create a set with element 'a','b','c' and print it.\n",
        "my_set={'a','b','c'}\n",
        "print(my_set)"
      ],
      "metadata": {
        "colab": {
          "base_uri": "https://localhost:8080/"
        },
        "id": "OKQZ8RnSZ6on",
        "outputId": "5929b875-41eb-4d3b-c044-9092cfc9b0aa"
      },
      "execution_count": 25,
      "outputs": [
        {
          "output_type": "stream",
          "name": "stdout",
          "text": [
            "{'a', 'b', 'c'}\n"
          ]
        }
      ]
    },
    {
      "cell_type": "code",
      "source": [
        "#17 write  a code to clear all element from the set {1,2,3,4,5}.\n",
        "my_set={1,2,3,4,5}\n",
        "my_set.clear()\n",
        "print(my_set)"
      ],
      "metadata": {
        "colab": {
          "base_uri": "https://localhost:8080/"
        },
        "id": "xYU5Z8zkZ-iF",
        "outputId": "837e5227-fb9e-4c9c-d4bc-ff88984022e4"
      },
      "execution_count": 26,
      "outputs": [
        {
          "output_type": "stream",
          "name": "stdout",
          "text": [
            "set()\n"
          ]
        }
      ]
    },
    {
      "cell_type": "code",
      "source": [
        "#18 write  a code to remove the element 4 from the set  {1,2,3,4}\n",
        "my_set={1,2,3,4}\n",
        "my_set.remove(4)\n",
        "print (my_set)"
      ],
      "metadata": {
        "colab": {
          "base_uri": "https://localhost:8080/"
        },
        "id": "EjRK95aNaAyM",
        "outputId": "01fbf554-ca3e-495f-91b7-1658632aaf6f"
      },
      "execution_count": 27,
      "outputs": [
        {
          "output_type": "stream",
          "name": "stdout",
          "text": [
            "{1, 2, 3}\n"
          ]
        }
      ]
    },
    {
      "cell_type": "code",
      "source": [
        "#19 write a code  find the uninon of two set{1,2,3} and {3,4,5}\n",
        "set1={1,2,3}\n",
        "set2={3,4,5}\n",
        "union=set1.union(set2)\n",
        "print(union)"
      ],
      "metadata": {
        "colab": {
          "base_uri": "https://localhost:8080/"
        },
        "id": "eMd3H3xKaGQD",
        "outputId": "07948c42-a51b-4743-fa77-4d981d126898"
      },
      "execution_count": 28,
      "outputs": [
        {
          "output_type": "stream",
          "name": "stdout",
          "text": [
            "{1, 2, 3, 4, 5}\n"
          ]
        }
      ]
    },
    {
      "cell_type": "code",
      "source": [
        "#20 write a code find the intersection of two set{1,2,3} and {3,4,5}\n",
        "set1={1,2,3}\n",
        "set2={3,4,5}\n",
        "intersection=set1.intersection(set2)\n",
        "print(intersection)\n"
      ],
      "metadata": {
        "colab": {
          "base_uri": "https://localhost:8080/"
        },
        "id": "rLYcxS7eaKbF",
        "outputId": "02cf222d-3bd4-48f7-9e37-a3dbc2d230ff"
      },
      "execution_count": 29,
      "outputs": [
        {
          "output_type": "stream",
          "name": "stdout",
          "text": [
            "{3}\n"
          ]
        }
      ]
    },
    {
      "cell_type": "code",
      "source": [
        "#21 write a code to create to a dictionary with the keys\"name\",\"age\"and \"city\" and print it.\n",
        "my_dict={\"name\":\"sahil\",\"age\":20,\"city\":\"surat\"}\n",
        "print(my_dict)"
      ],
      "metadata": {
        "colab": {
          "base_uri": "https://localhost:8080/"
        },
        "id": "W661W6ApaM17",
        "outputId": "389bb525-efbb-454c-811c-273d6e465d5f"
      },
      "execution_count": 30,
      "outputs": [
        {
          "output_type": "stream",
          "name": "stdout",
          "text": [
            "{'name': 'sahil', 'age': 20, 'city': 'surat'}\n"
          ]
        }
      ]
    },
    {
      "cell_type": "code",
      "source": [
        "#22 write a code to add  a new key-value pair\"country:\"usa\" to the dictionary {'name':'alice','age':25}\n",
        "dict={\"name\":\"alice\",\"age\":25}\n",
        "dict[\"country\"]=\"usa\"\n",
        "print(dict)"
      ],
      "metadata": {
        "colab": {
          "base_uri": "https://localhost:8080/"
        },
        "id": "6ZdtFjx3agYX",
        "outputId": "93daf0c2-d999-4d31-bf12-80081cb3af84"
      },
      "execution_count": 31,
      "outputs": [
        {
          "output_type": "stream",
          "name": "stdout",
          "text": [
            "{'name': 'alice', 'age': 25, 'country': 'usa'}\n"
          ]
        }
      ]
    },
    {
      "cell_type": "code",
      "source": [
        "#23 write a code to access the value associated with the key \"name\"in the dictonary {'name':'alice','age':30}\n",
        "dict={'name':'alice','age':30}\n",
        "value=dict[\"name\"]\n",
        "print(value)"
      ],
      "metadata": {
        "colab": {
          "base_uri": "https://localhost:8080/"
        },
        "id": "wUdjfev7akzv",
        "outputId": "d525e28e-e82e-4f2d-d356-2fab3e13d291"
      },
      "execution_count": 32,
      "outputs": [
        {
          "output_type": "stream",
          "name": "stdout",
          "text": [
            "alice\n"
          ]
        }
      ]
    },
    {
      "cell_type": "code",
      "source": [
        "#24 write a code to remove  the key \"age\" from the dictionary {'name':'bob','age':22,'city':'new york'}\n",
        "dict={'name':'bob','age':22,'city':'new york'}\n",
        "del dict[\"age\"]\n",
        "print(dict)"
      ],
      "metadata": {
        "colab": {
          "base_uri": "https://localhost:8080/"
        },
        "id": "HAgWn7CNaksI",
        "outputId": "921842b5-ff43-4e86-bd5e-0b32da8f2d40"
      },
      "execution_count": 33,
      "outputs": [
        {
          "output_type": "stream",
          "name": "stdout",
          "text": [
            "{'name': 'bob', 'city': 'new york'}\n"
          ]
        }
      ]
    },
    {
      "cell_type": "code",
      "source": [
        "#25 write a code to check if the key \"city\" exisist in the dictionary {'name':'alice','city':'paris'}\n",
        "dict={'name':'alice','city':'paris'}\n",
        "if 'city' in dict:\n",
        "  print(\"city is present\")\n",
        "else:\n",
        "  print(\"city is not present\")"
      ],
      "metadata": {
        "colab": {
          "base_uri": "https://localhost:8080/"
        },
        "id": "yoJ6IntKaknj",
        "outputId": "f6de22e8-4904-46f8-d2b0-3cea3431af87"
      },
      "execution_count": 35,
      "outputs": [
        {
          "output_type": "stream",
          "name": "stdout",
          "text": [
            "city is present\n"
          ]
        }
      ]
    },
    {
      "cell_type": "code",
      "source": [
        "#26 write a code  to create a list  with string and printt  the  element at the third index.\n",
        "my_list = [\"apple\", \"banana\", \"cherry\", \"date\", \"elderberry\"]\n",
        "print(my_list[3])"
      ],
      "metadata": {
        "colab": {
          "base_uri": "https://localhost:8080/"
        },
        "id": "gbMSxc8_akdx",
        "outputId": "985a736b-bf6c-4af2-a61b-0cdf63a0b576"
      },
      "execution_count": 36,
      "outputs": [
        {
          "output_type": "stream",
          "name": "stdout",
          "text": [
            "date\n"
          ]
        }
      ]
    },
    {
      "cell_type": "code",
      "source": [
        "#27 write a code to create a  list, a tuple,a dictonary,and print them all.\n",
        "list=[1,2,3,4]\n",
        "print(list)\n",
        "tuple={1,2,3,4}\n",
        "print(tuple)\n",
        "dict ={'a':2,'b':3}\n",
        "print(dict)"
      ],
      "metadata": {
        "colab": {
          "base_uri": "https://localhost:8080/"
        },
        "id": "KIak3HsVakU9",
        "outputId": "c2ee4893-72b0-448d-9461-61210c20c65b"
      },
      "execution_count": 37,
      "outputs": [
        {
          "output_type": "stream",
          "name": "stdout",
          "text": [
            "[1, 2, 3, 4]\n",
            "{1, 2, 3, 4}\n",
            "{'a': 2, 'b': 3}\n"
          ]
        }
      ]
    },
    {
      "cell_type": "code",
      "source": [
        "#28 write a code to create  a list of 5 random number between 1 to 100 ,sort it in  ascending order,and print the  result\n",
        "list=[1,33,55,67,89]\n",
        "ascending_order=sorted(list)\n",
        "print(ascending_order)"
      ],
      "metadata": {
        "colab": {
          "base_uri": "https://localhost:8080/"
        },
        "id": "7ADTprj6a0sq",
        "outputId": "3f3eecda-f96f-46bd-d93a-a9b3fe46c88d"
      },
      "execution_count": 38,
      "outputs": [
        {
          "output_type": "stream",
          "name": "stdout",
          "text": [
            "[1, 33, 55, 67, 89]\n"
          ]
        }
      ]
    },
    {
      "cell_type": "code",
      "source": [
        "#29 write a code to comine two dictionaries into one and  print the result.\n",
        "dict1={\"a\":1,\"b\":2}\n",
        "dict2={\"c\":3,\"d\":4}\n",
        "combine_dict=(dict1|dict2)\n",
        "print(combine_dict)"
      ],
      "metadata": {
        "colab": {
          "base_uri": "https://localhost:8080/"
        },
        "id": "7JUX95kpa0kb",
        "outputId": "d832591d-bf20-4339-dd58-a1ab4cac2c8c"
      },
      "execution_count": 39,
      "outputs": [
        {
          "output_type": "stream",
          "name": "stdout",
          "text": [
            "{'a': 1, 'b': 2, 'c': 3, 'd': 4}\n"
          ]
        }
      ]
    },
    {
      "cell_type": "code",
      "source": [
        "#30 write a code to convert a list of string into a set.\n",
        "my_list = [\"apple\", \"banana\", \"cherry\", \"apple\", \"date\"]\n",
        "my_set = set(my_list)\n",
        "print(my_set)"
      ],
      "metadata": {
        "colab": {
          "base_uri": "https://localhost:8080/"
        },
        "id": "NnvA2BZ8a0dN",
        "outputId": "f29d5f2f-7f9b-42d9-f8ee-d63bfca8b133"
      },
      "execution_count": 40,
      "outputs": [
        {
          "output_type": "stream",
          "name": "stdout",
          "text": [
            "{'date', 'cherry', 'banana', 'apple'}\n"
          ]
        }
      ]
    }
  ]
}